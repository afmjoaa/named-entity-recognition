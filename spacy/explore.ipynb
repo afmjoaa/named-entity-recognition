{
 "cells": [
  {
   "cell_type": "markdown",
   "source": [
    "### Data Explorer -> targets\n",
    "\n",
    "- Find out sentence count\n",
    "- Divide train, validation and test set\n",
    "- Find out individual tags as array\n",
    "- Find max length or word in sentence\n",
    "- Find index, start, end of entity from sentence\n",
    "\n",
    "### For installing seaborn\n",
    "conda install seaborn -c conda-forge\n",
    "\n",
    "### For installing tensorflow in Macos follow the link\n",
    "https://developer.apple.com/metal/tensorflow-plugin/\n",
    "\n",
    "### For downloading the model use following command\n",
    "python -m spacy download en_core_web_lg\n",
    "\n",
    "### Open tensorboard\n",
    "tensorboard --logdir=log/train"
   ],
   "metadata": {
    "collapsed": false
   }
  },
  {
   "cell_type": "code",
   "execution_count": 1,
   "outputs": [],
   "source": [
    "from src.utility import Constants\n",
    "import numpy as np"
   ],
   "metadata": {
    "collapsed": false
   }
  },
  {
   "cell_type": "code",
   "execution_count": 70,
   "outputs": [],
   "source": [
    "# noinspection PyShadowingNames\n",
    "def getSentenceArray(dataFile: str):\n",
    "    sentence_array = []\n",
    "    with open(dataFile) as f:\n",
    "        # Initialize variables\n",
    "        current_sent_array = []\n",
    "\n",
    "        for line in f:\n",
    "            if line.startswith(Constants.ID_IDENTIFIER):\n",
    "                if len(current_sent_array) > 0:\n",
    "                    sentence_array.append(current_sent_array)\n",
    "                    current_sent_array = []\n",
    "            elif line.strip() == \"\":\n",
    "                pass\n",
    "            else:\n",
    "                # Split the line into its constituent parts\n",
    "                parts = line.strip().split(Constants.SEPERATOR)\n",
    "                # Get the word and label for this token\n",
    "                word = parts[0]\n",
    "                current_sent_array.append(word)\n",
    "\n",
    "        # If there are any tokens left in the current sentence, add it to the list of sentences\n",
    "        if len(current_sent_array) > 0:\n",
    "            sentence_array.append(current_sent_array)\n",
    "\n",
    "    return sentence_array"
   ],
   "metadata": {
    "collapsed": false
   }
  },
  {
   "cell_type": "code",
   "execution_count": 71,
   "outputs": [
    {
     "name": "stdout",
     "output_type": "stream",
     "text": [
      "Sentences available in train dataset is: 16778\n",
      "Sentences available in dev dataset is: 871\n"
     ]
    }
   ],
   "source": [
    "# Get sentence count for train\n",
    "train_sentence_array = getSentenceArray(\"../data/en-train.conll\")\n",
    "print(\"Sentences available in train dataset is:\", len(train_sentence_array))\n",
    "\n",
    "# Get sentence count for dev\n",
    "dev_sentence_array = getSentenceArray(\"../data/en-dev.conll\")\n",
    "print(\"Sentences available in dev dataset is:\", len(dev_sentence_array))"
   ],
   "metadata": {
    "collapsed": false
   }
  },
  {
   "cell_type": "code",
   "execution_count": 72,
   "outputs": [
    {
     "name": "stdout",
     "output_type": "stream",
     "text": [
      "Total sentence available is: 17649\n"
     ]
    }
   ],
   "source": [
    "# Combining both array\n",
    "sentence_array = train_sentence_array + dev_sentence_array\n",
    "print(\"Total sentence available is:\", len(sentence_array))"
   ],
   "metadata": {
    "collapsed": false
   }
  },
  {
   "cell_type": "code",
   "execution_count": 73,
   "outputs": [
    {
     "name": "stdout",
     "output_type": "stream",
     "text": [
      "Train sentence count is: 12354\n",
      "Validation sentence count is: 3530\n",
      "Test sentence count is: 1765\n"
     ]
    }
   ],
   "source": [
    "# Split into train-70%, validation-20%, test-10%\n",
    "def splitArrayIntoTrainValTest(dataArray):\n",
    "    # Calculate the indices to split the array\n",
    "    n = len(dataArray)\n",
    "    train_idx = int(0.7 * n)\n",
    "    val_idx = int(0.9 * n)\n",
    "\n",
    "    # Split the array into three parts\n",
    "    train_arr = dataArray[:train_idx]\n",
    "    val_arr = dataArray[train_idx:val_idx]\n",
    "    test_arr = dataArray[val_idx:]\n",
    "\n",
    "    return train_arr, val_arr, test_arr\n",
    "\n",
    "\n",
    "train, val, test = splitArrayIntoTrainValTest(sentence_array)\n",
    "print(\"Train sentence count is:\", len(train))\n",
    "print(\"Validation sentence count is:\", len(val))\n",
    "print(\"Test sentence count is:\", len(test))"
   ],
   "metadata": {
    "collapsed": false
   }
  },
  {
   "cell_type": "code",
   "execution_count": 74,
   "outputs": [
    {
     "name": "stdout",
     "output_type": "stream",
     "text": [
      "Max count of words in one sentence is: 68\n",
      "Mean: 15.09060003399626\n",
      "Standard deviation: 5.287561377169507\n"
     ]
    }
   ],
   "source": [
    "# Find max length of word\n",
    "# noinspection PyShadowingNames\n",
    "def max_array_length(arrays):\n",
    "    length_array = []\n",
    "    max_length = 0\n",
    "    for arr in arrays:\n",
    "        length = len(arr)\n",
    "        length_array.append(length)\n",
    "        if length > max_length:\n",
    "            max_length = length\n",
    "    return max_length, length_array\n",
    "\n",
    "\n",
    "max_length, length_array = max_array_length(sentence_array)\n",
    "print(\"Max count of words in one sentence is:\", max_length)\n",
    "\n",
    "np_length_array = np.array(length_array)\n",
    "mean = np.mean(np_length_array)\n",
    "print(\"Mean:\", mean)\n",
    "\n",
    "std = np.std(np_length_array)\n",
    "print(\"Standard deviation:\", std)"
   ],
   "metadata": {
    "collapsed": false
   }
  },
  {
   "cell_type": "code",
   "execution_count": 75,
   "outputs": [
    {
     "name": "stdout",
     "output_type": "stream",
     "text": [
      "Considered word length is: 31\n"
     ]
    }
   ],
   "source": [
    "import math\n",
    "\n",
    "considered_word_count = math.ceil(mean + 3 * std)\n",
    "print(\"Considered word length is:\", considered_word_count)"
   ],
   "metadata": {
    "collapsed": false
   }
  },
  {
   "cell_type": "code",
   "execution_count": 76,
   "outputs": [
    {
     "name": "stdout",
     "output_type": "stream",
     "text": [
      "label set is: {'B-AerospaceManufacturer', 'I-PublicCorp', 'B-OtherPROD', 'B-Politician', 'B-MusicalWork', 'I-Scientist', 'O', 'B-Software', 'B-VisualWork', 'I-Athlete', 'B-Facility', 'I-Cleric', 'B-Station', 'I-VisualWork', 'I-WrittenWork', 'I-OtherLOC', 'B-Food', 'B-Vehicle', 'I-CarManufacturer', 'B-MusicalGRP', 'I-MusicalGRP', 'I-HumanSettlement', 'I-AerospaceManufacturer', 'B-SportsGRP', 'I-AnatomicalStructure', 'I-Facility', 'B-ORG', 'I-Medication/Vaccine', 'I-Symptom', 'I-Software', 'B-AnatomicalStructure', 'B-HumanSettlement', 'B-OtherPER', 'B-Symptom', 'B-Cleric', 'I-ArtWork', 'B-Clothing', 'I-Food', 'B-Medication/Vaccine', 'I-Clothing', 'B-Athlete', 'B-Drink', 'I-Station', 'B-WrittenWork', 'B-CarManufacturer', 'I-Politician', 'B-Scientist', 'I-ORG', 'B-Disease', 'I-Disease', 'B-MedicalProcedure', 'B-PrivateCorp', 'I-OtherPROD', 'B-PublicCorp', 'B-SportsManager', 'I-MedicalProcedure', 'B-OtherLOC', 'I-SportsGRP', 'I-Vehicle', 'I-OtherPER', 'I-MusicalWork', 'B-ArtWork', 'I-SportsManager', 'I-Drink', 'I-Artist', 'B-Artist', 'I-PrivateCorp'} Unique label count is: 67\n"
     ]
    }
   ],
   "source": [
    "# noinspection PyShadowingNames\n",
    "# Get all labels as an array\n",
    "def getLabelArray(dataFile: str, onlyBioTagging=False):\n",
    "    label_array = []\n",
    "    with open(dataFile) as f:\n",
    "        for line in f:\n",
    "            if line.startswith(Constants.ID_IDENTIFIER):\n",
    "                pass\n",
    "            elif line.strip() == \"\":\n",
    "                pass\n",
    "            else:\n",
    "                # Split the line into its constituent parts\n",
    "                parts = line.strip().split(Constants.SEPERATOR)\n",
    "                # Get the word and label for this token\n",
    "                label = parts[-1]\n",
    "                if onlyBioTagging:\n",
    "                    bio_parts = label.strip().split(Constants.BIOX_SEPERATOR)\n",
    "                    only_bio_tag = bio_parts[0]\n",
    "                    label_array.append(only_bio_tag)\n",
    "                else:\n",
    "                    label_array.append(label)\n",
    "    return label_array\n",
    "\n",
    "\n",
    "# Get label array for train\n",
    "train_label_array = getLabelArray(\"../data/en-train.conll\")\n",
    "dev_label_array = getLabelArray(\"../data/en-dev.conll\")\n",
    "\n",
    "label_array = train_label_array + dev_label_array\n",
    "label_set = set(label_array)\n",
    "\n",
    "print(\"label set is:\", label_set, \"Unique label count is:\", len(label_set))"
   ],
   "metadata": {
    "collapsed": false
   }
  },
  {
   "cell_type": "code",
   "execution_count": 77,
   "outputs": [],
   "source": [
    "# noinspection PyShadowingNames\n",
    "def count_each_label(label_array, label_set):\n",
    "    result_dict = {}\n",
    "\n",
    "    for item in label_set:\n",
    "        result_dict[item] = label_array.count(item)\n",
    "\n",
    "    return result_dict"
   ],
   "metadata": {
    "collapsed": false
   }
  },
  {
   "cell_type": "code",
   "execution_count": 78,
   "outputs": [
    {
     "name": "stdout",
     "output_type": "stream",
     "text": [
      "{'B-AerospaceManufacturer': 226, 'I-PublicCorp': 323, 'B-OtherPROD': 835, 'B-Politician': 1103, 'B-MusicalWork': 1014, 'I-Scientist': 407, 'O': 209544, 'B-Software': 619, 'B-VisualWork': 1327, 'I-Athlete': 1890, 'B-Facility': 1105, 'I-Cleric': 411, 'B-Station': 412, 'I-VisualWork': 2403, 'I-WrittenWork': 1942, 'I-OtherLOC': 627, 'B-Food': 381, 'B-Vehicle': 397, 'I-CarManufacturer': 108, 'B-MusicalGRP': 862, 'I-MusicalGRP': 1042, 'I-HumanSettlement': 1311, 'I-AerospaceManufacturer': 185, 'B-SportsGRP': 857, 'I-AnatomicalStructure': 152, 'I-Facility': 1642, 'B-ORG': 1558, 'I-Medication/Vaccine': 95, 'I-Symptom': 111, 'I-Software': 640, 'B-AnatomicalStructure': 405, 'B-HumanSettlement': 2726, 'B-OtherPER': 1868, 'B-Symptom': 212, 'B-Cleric': 314, 'I-ArtWork': 542, 'B-Clothing': 208, 'I-Food': 121, 'B-Medication/Vaccine': 373, 'I-Clothing': 89, 'B-Athlete': 1872, 'B-Drink': 223, 'I-Station': 633, 'B-WrittenWork': 1127, 'B-CarManufacturer': 262, 'I-Politician': 1492, 'B-Scientist': 333, 'I-ORG': 2301, 'B-Disease': 390, 'I-Disease': 305, 'B-MedicalProcedure': 255, 'B-PrivateCorp': 212, 'I-OtherPROD': 613, 'B-PublicCorp': 465, 'B-SportsManager': 360, 'I-MedicalProcedure': 159, 'B-OtherLOC': 307, 'I-SportsGRP': 1171, 'I-Vehicle': 325, 'I-OtherPER': 2383, 'I-MusicalWork': 1921, 'B-ArtWork': 212, 'I-SportsManager': 375, 'I-Drink': 86, 'I-Artist': 4060, 'B-Artist': 3925, 'I-PrivateCorp': 180}\n"
     ]
    },
    {
     "data": {
      "text/plain": "<Figure size 640x480 with 1 Axes>",
      "image/png": "[encoded data removed]"
     },
     "metadata": {},
     "output_type": "display_data"
    }
   ],
   "source": [
    "import matplotlib.pyplot as plt\n",
    "\n",
    "\n",
    "def drawHistogramFromDictionary(label_dict):\n",
    "    plt.bar(label_dict.keys(), label_dict.values())\n",
    "    plt.title(\"Histogram from label count\")\n",
    "    plt.xlabel(\"Label\")\n",
    "    plt.ylabel(\"Count\")\n",
    "    plt.show()\n",
    "\n",
    "\n",
    "# Generate data\n",
    "label_dict = count_each_label(label_array, label_set)\n",
    "print(label_dict)\n",
    "drawHistogramFromDictionary(label_dict)"
   ],
   "metadata": {
    "collapsed": false
   }
  },
  {
   "cell_type": "code",
   "execution_count": 79,
   "outputs": [
    {
     "name": "stdout",
     "output_type": "stream",
     "text": [
      "{'B': 26745, 'O': 209544, 'I': 30045}\n"
     ]
    },
    {
     "data": {
      "text/plain": "<Figure size 640x480 with 1 Axes>",
      "image/png": "[encoded data removed]"
     },
     "metadata": {},
     "output_type": "display_data"
    }
   ],
   "source": [
    "# Get count for only BIO tags\n",
    "train_bio_label_array = getLabelArray(\"../data/en-train.conll\", onlyBioTagging=True)\n",
    "dev_bio_label_array = getLabelArray(\"../data/en-dev.conll\", onlyBioTagging=True)\n",
    "\n",
    "label_bio_array = train_bio_label_array + dev_bio_label_array\n",
    "label_bio_set = set(label_bio_array)\n",
    "label_bio_dict = count_each_label(label_bio_array, label_bio_set)\n",
    "print(label_bio_dict)\n",
    "drawHistogramFromDictionary(label_bio_dict)"
   ],
   "metadata": {
    "collapsed": false
   }
  },
  {
   "cell_type": "markdown",
   "source": [
    "### New task\n",
    "1. Convert sentence map"
   ],
   "metadata": {
    "collapsed": false
   }
  },
  {
   "cell_type": "code",
   "execution_count": 20,
   "outputs": [
    {
     "name": "stdout",
     "output_type": "stream",
     "text": [
      "{'robert': 'B-OtherPER', 'gottschalk': 'I-OtherPER', '1939': 'O', 'academy': 'B-VisualWork', 'award': 'I-VisualWork', 'winner': 'O', 'and': 'O', 'founder': 'O', 'of': 'O', 'panavision': 'B-ORG'} ['robert', 'gottschalk', '1939', 'academy', 'award', 'winner', 'and', 'founder', 'of', 'panavision'] ['B-OtherPER', 'I-OtherPER', 'O', 'B-VisualWork', 'I-VisualWork', 'O', 'O', 'O', 'O', 'B-ORG']\n",
      "joaa\n"
     ]
    }
   ],
   "source": [
    "def getDataArrayAsMap(dataFile: str, onlyBioTagging=False):\n",
    "    # Open the CoNLL file\n",
    "    data_array = []\n",
    "    with open(dataFile) as f:\n",
    "        # Initialize variables\n",
    "        current_sent_dictionary = {}\n",
    "\n",
    "        for line in f:\n",
    "            if line.startswith(Constants.ID_IDENTIFIER):\n",
    "                if len(current_sent_dictionary) > 0:\n",
    "                    data_array.append(current_sent_dictionary)\n",
    "                    current_sent_dictionary = {}\n",
    "            elif line.strip() == \"\":\n",
    "                pass\n",
    "            else:\n",
    "                # Split the line into its constituent parts\n",
    "                parts = line.strip().split(Constants.SEPERATOR)\n",
    "                # Get the word and label for this token\n",
    "                word = parts[0]\n",
    "                label = parts[-1]\n",
    "                if onlyBioTagging:\n",
    "                    bio_parts = label.strip().split(Constants.BIOX_SEPERATOR)\n",
    "                    only_bio_tag = bio_parts[0]\n",
    "                    current_sent_dictionary[word] = only_bio_tag\n",
    "                else:\n",
    "                    current_sent_dictionary[word] = label\n",
    "\n",
    "        # If there are any tokens left in the current sentence, add it to the list of sentences\n",
    "        if len(current_sent_dictionary) > 0:\n",
    "            data_array.append(current_sent_dictionary)\n",
    "\n",
    "    return data_array\n",
    "\n",
    "\n",
    "train_map_array = getDataArrayAsMap(\"../data/en-train.conll\")\n",
    "item_one = train_map_array[0]\n",
    "item_one_key = list(item_one.keys())\n",
    "item_one_value = list(item_one.values())\n",
    "print(item_one)"
   ],
   "metadata": {
    "collapsed": false
   }
  },
  {
   "cell_type": "code",
   "execution_count": 21,
   "outputs": [],
   "source": [
    "def split_label_text(text):\n",
    "    parts = text.split(\"-\")\n",
    "    return parts[0], \"-\" + parts[1]\n",
    "\n",
    "\n",
    "# print(split_label_text(item_one_value[0]))"
   ],
   "metadata": {
    "collapsed": false
   }
  },
  {
   "cell_type": "code",
   "execution_count": 22,
   "outputs": [
    {
     "name": "stdout",
     "output_type": "stream",
     "text": [
      "robert gottschalk 1939 academy award winner and founder of panavision\n"
     ]
    }
   ],
   "source": [
    "def make_sentence(words):\n",
    "    sentence = \" \".join(words)\n",
    "    return sentence\n",
    "\n",
    "\n",
    "print(make_sentence(item_one_key))"
   ],
   "metadata": {
    "collapsed": false
   }
  },
  {
   "cell_type": "code",
   "execution_count": 23,
   "outputs": [
    {
     "name": "stdout",
     "output_type": "stream",
     "text": [
      "{'sentence': 'robert gottschalk 1939 academy award winner and founder of panavision', 'entities': [(0, 6, 'B-OtherPER'), (7, 17, 'I-OtherPER'), (23, 30, 'B-VisualWork'), (31, 36, 'I-VisualWork'), (59, 69, 'B-ORG')]}\n"
     ]
    }
   ],
   "source": [
    "def format_ner_results(results):\n",
    "    sentence = \"\"\n",
    "    entities = []\n",
    "    start = 0\n",
    "    for word, label in results.items():\n",
    "        if label != \"O\":\n",
    "            entities.append((start, len(sentence) + len(word), label))\n",
    "        sentence += word + \" \"\n",
    "        start = len(sentence)\n",
    "    return {\"sentence\": sentence.strip(), \"entities\": entities}\n",
    "\n",
    "\n",
    "formatted_data = format_ner_results(item_one)\n",
    "print(formatted_data)"
   ],
   "metadata": {
    "collapsed": false
   }
  },
  {
   "cell_type": "code",
   "execution_count": 24,
   "outputs": [
    {
     "name": "stdout",
     "output_type": "stream",
     "text": [
      "panavision\n"
     ]
    }
   ],
   "source": [
    "print(formatted_data[\"sentence\"][59:69])"
   ],
   "metadata": {
    "collapsed": false
   }
  },
  {
   "cell_type": "code",
   "execution_count": 25,
   "outputs": [
    {
     "name": "stdout",
     "output_type": "stream",
     "text": [
      "robert gottschalk 1939 academy award winner and founder of panavision\n"
     ]
    },
    {
     "data": {
      "text/plain": "(robert, gottschalk, academy, award, panavision)"
     },
     "execution_count": 25,
     "metadata": {},
     "output_type": "execute_result"
    }
   ],
   "source": [
    "from spacy.util import filter_spans\n",
    "import spacy\n",
    "\n",
    "\n",
    "def createDocFromFormattedMap(formattedMap, nlp: spacy.language):\n",
    "    text = formattedMap[\"sentence\"]\n",
    "    labels = formattedMap[\"entities\"]\n",
    "    doc = nlp.make_doc(text)\n",
    "    entities = []\n",
    "    for start, end, label in labels:\n",
    "        span = doc.char_span(start, end, label=label, alignment_mode=\"contract\")\n",
    "        if span is None:\n",
    "            print(\"Skipping entity\")\n",
    "        else:\n",
    "            entities.append(span)\n",
    "    filtered_entities = filter_spans(entities)\n",
    "    doc.ents = filtered_entities\n",
    "    return doc\n",
    "\n",
    "\n",
    "nlp = spacy.blank(\"en\")\n",
    "doc_data = createDocFromFormattedMap(formatted_data, nlp)\n",
    "print(doc_data)"
   ],
   "metadata": {
    "collapsed": false
   }
  }
 ],
 "metadata": {
  "kernelspec": {
   "display_name": "Python 3",
   "language": "python",
   "name": "python3"
  },
  "language_info": {
   "codemirror_mode": {
    "name": "ipython",
    "version": 2
   },
   "file_extension": ".py",
   "mimetype": "text/x-python",
   "name": "python",
   "nbconvert_exporter": "python",
   "pygments_lexer": "ipython2",
   "version": "2.7.6"
  }
 },
 "nbformat": 4,
 "nbformat_minor": 0
}
