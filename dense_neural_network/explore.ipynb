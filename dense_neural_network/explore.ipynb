{
 "cells": [
  {
   "cell_type": "code",
   "execution_count": null,
   "outputs": [],
   "source": [
    "# runtime requirements\n",
    "!pip install -r requirements.txt\n",
    "!python3 -m spacy download en_core_web_md"
   ],
   "metadata": {
    "collapsed": false
   }
  },
  {
   "cell_type": "code",
   "execution_count": 2,
   "outputs": [
    {
     "name": "stdout",
     "output_type": "stream",
     "text": [
      "['# id bb81b9a7-e73d-4977-b6a8-0f7937123dfe', 'during _ _ O', 'the _ _ O', 'reign _ _ O', 'of _ _ O', 'the _ _ O', 'tongzhi _ _ B-OtherPER', 'emperor _ _ I-OtherPER', '( _ _ O', 'r _ _ O', '. _ _ O', '1861 _ _ O', '– _ _ O', '1875 _ _ O', ') _ _ O', ': _ _ O'] ['domain=en', 'during _ _ O', 'the _ _ O', 'reign _ _ O', 'of _ _ O', 'the _ _ O', 'tongzhi _ _ B-OtherPER', 'emperor _ _ I-OtherPER', '( _ _ O', 'r _ _ O', '. _ _ O', '1861 _ _ O', '– _ _ O', '1875 _ _ O', ') _ _ O', ': _ _ O']\n"
     ]
    }
   ],
   "source": [
    "# Initialize variables\n",
    "sentences = []\n",
    "labels = []\n",
    "\n",
    "# Open the CoNLL file\n",
    "with open('dummy.conll') as f:\n",
    "    # Initialize variables\n",
    "    current_sent = []\n",
    "    current_labels = []\n",
    "\n",
    "    # Iterate through the lines in the file\n",
    "    for line in f:\n",
    "        # Skip any empty lines\n",
    "        if line.strip() == '':\n",
    "            # If the current sentence is not empty, add it to the list of sentences\n",
    "            if len(current_sent) > 0:\n",
    "                sentences.append(' '.join(current_sent))\n",
    "                labels.append(current_labels)\n",
    "                current_sent = []\n",
    "                current_labels = []\n",
    "        else:\n",
    "            # Split the line into its constituent parts\n",
    "            parts = line.strip().split('\\t')\n",
    "            # Get the word and label for this token\n",
    "            word = parts[0]\n",
    "            label = parts[-1]\n",
    "\n",
    "            # Add the word and label to the current sentence\n",
    "            current_sent.append(word)\n",
    "            current_labels.append(label)\n",
    "\n",
    "    # If there are any tokens left in the current sentence, add it to the list of sentences\n",
    "    if len(current_sent) > 0:\n",
    "        sentences.append(' '.join(current_sent))\n",
    "        labels.append(current_labels)\n",
    "\n",
    "    print(current_sent, current_labels)\n",
    "\n",
    "\n"
   ],
   "metadata": {
    "collapsed": false
   }
  },
  {
   "cell_type": "code",
   "execution_count": null,
   "outputs": [],
   "source": [],
   "metadata": {
    "collapsed": false
   }
  }
 ],
 "metadata": {
  "kernelspec": {
   "display_name": "Python 3 (ipykernel)",
   "language": "python",
   "name": "python3"
  },
  "language_info": {
   "codemirror_mode": {
    "name": "ipython",
    "version": 3
   },
   "file_extension": ".py",
   "mimetype": "text/x-python",
   "name": "python",
   "nbconvert_exporter": "python",
   "pygments_lexer": "ipython3",
   "version": "3.9.6"
  }
 },
 "nbformat": 4,
 "nbformat_minor": 5
}
